{
 "cells": [
  {
   "cell_type": "code",
   "execution_count": 1,
   "metadata": {},
   "outputs": [],
   "source": [
    "import pkuseg\n",
    "import re\n",
    "path = '庾子山集删除评论.txt'\n",
    "openpath = '庾子山集PKU词频文本.txt'\n",
    "seg = pkuseg.pkuseg()\n",
    "file = open(path, 'r',encoding = 'utf-8', errors = 'ignore')\n",
    "textall = []\n",
    "while 1:\n",
    "    line = file.readline()\n",
    "    text = seg.cut(line)\n",
    "    textall += text\n",
    "    if not line:\n",
    "        break\n",
    "        \n",
    "write = open(openpath, 'a+',encoding = 'utf-8', errors = 'ignore')\n",
    "for c in textall:\n",
    "    write.write(c+' ')\n",
    "write.close()"
   ]
  },
  {
   "cell_type": "code",
   "execution_count": null,
   "metadata": {},
   "outputs": [],
   "source": []
  }
 ],
 "metadata": {
  "kernelspec": {
   "display_name": "Python 3",
   "language": "python",
   "name": "python3"
  },
  "language_info": {
   "codemirror_mode": {
    "name": "ipython",
    "version": 3
   },
   "file_extension": ".py",
   "mimetype": "text/x-python",
   "name": "python",
   "nbconvert_exporter": "python",
   "pygments_lexer": "ipython3",
   "version": "3.7.6"
  }
 },
 "nbformat": 4,
 "nbformat_minor": 2
}
